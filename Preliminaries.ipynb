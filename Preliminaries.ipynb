{
  "nbformat": 4,
  "nbformat_minor": 0,
  "metadata": {
    "colab": {
      "name": "Preliminaries.ipynb",
      "provenance": []
    },
    "kernelspec": {
      "name": "python3",
      "display_name": "Python 3"
    },
    "language_info": {
      "name": "python"
    }
  },
  "cells": [
    {
      "cell_type": "code",
      "execution_count": 4,
      "metadata": {
        "colab": {
          "base_uri": "https://localhost:8080/"
        },
        "id": "R84jyHWeeT4u",
        "outputId": "c8664a0f-7d8b-4db9-fe02-4b9d4533a3df"
      },
      "outputs": [
        {
          "output_type": "stream",
          "name": "stdout",
          "text": [
            "Hi world\n"
          ]
        }
      ],
      "source": [
        "#A Python program is made up of instructions. Each statement is normally written on one line. For example, the instruction \n",
        "#print is for print 'Hello word in the screen. The function print is for print a object\n",
        "print('Hi world')\n"
      ]
    },
    {
      "cell_type": "code",
      "source": [
        "#Example \n",
        "print('Hi! welcome to my tutorial in Python, thank you')"
      ],
      "metadata": {
        "colab": {
          "base_uri": "https://localhost:8080/"
        },
        "id": "RJvVGbLmlsK7",
        "outputId": "bc7b724f-b25f-4825-9055-59ebfbdac38b"
      },
      "execution_count": 5,
      "outputs": [
        {
          "output_type": "stream",
          "name": "stdout",
          "text": [
            "Hi! welcome to my tutorial in Python, thank you\n"
          ]
        }
      ]
    },
    {
      "cell_type": "code",
      "source": [
        "#If the program have two or more instructions, the program print all instructions sequencially one after another\n",
        "#Example\n",
        "print('Instruction 1')\n",
        "print('Instruction 2')"
      ],
      "metadata": {
        "colab": {
          "base_uri": "https://localhost:8080/"
        },
        "id": "E4ZHIQzFmA09",
        "outputId": "098d2ffc-c40c-48ee-c204-e82f95bef708"
      },
      "execution_count": 7,
      "outputs": [
        {
          "output_type": "stream",
          "name": "stdout",
          "text": [
            "Instruction 1\n",
            "Instruction 2\n"
          ]
        }
      ]
    },
    {
      "cell_type": "code",
      "source": [
        "#Print is a function predifined (built-in function). A function is called from a program, writing the name and next the parenthesys\n",
        "#Python have many predifined functions(The above functions are called predefined functions because they are already included \"by default\" in Python.),\n",
        "#for example the function help is for give information about some thing \n",
        "help(print)"
      ],
      "metadata": {
        "colab": {
          "base_uri": "https://localhost:8080/"
        },
        "id": "riQItK4wmshR",
        "outputId": "a4ab02f2-6b2a-47f0-8217-dfa4e4ba81d0"
      },
      "execution_count": 10,
      "outputs": [
        {
          "output_type": "stream",
          "name": "stdout",
          "text": [
            "Help on built-in function print in module builtins:\n",
            "\n",
            "print(...)\n",
            "    print(value, ..., sep=' ', end='\\n', file=sys.stdout, flush=False)\n",
            "    \n",
            "    Prints the values to a stream, or to sys.stdout by default.\n",
            "    Optional keyword arguments:\n",
            "    file:  a file-like object (stream); defaults to the current sys.stdout.\n",
            "    sep:   string inserted between values, default a space.\n",
            "    end:   string appended after the last value, default a newline.\n",
            "    flush: whether to forcibly flush the stream.\n",
            "\n"
          ]
        }
      ]
    },
    {
      "cell_type": "code",
      "source": [
        "#programmers can define their own functions\n",
        "def say_hi(name):\n",
        "#This function give a greeting most your name\n",
        "    print('I am Batman, ' + name)\n",
        "say_hi('Joseph')\n"
      ],
      "metadata": {
        "colab": {
          "base_uri": "https://localhost:8080/"
        },
        "id": "WE6g-dyKn9Ec",
        "outputId": "af731800-06e8-4cf8-e5b4-ad2272eed39c"
      },
      "execution_count": 22,
      "outputs": [
        {
          "output_type": "stream",
          "name": "stdout",
          "text": [
            "I am Batman, Joseph\n"
          ]
        }
      ]
    },
    {
      "cell_type": "code",
      "source": [
        "#The function we just defined is called greet and takes a single parameter. After the first line (called the function header or prototype)\n",
        "#comes one or more instructions (called the function body), which will be executed when someone calls the function. \n",
        "#Note that the instructions that make up the body of the function appear indented, that is, they have a tab in front of them."
      ],
      "metadata": {
        "id": "_Vd7ZyR0q9T6"
      },
      "execution_count": 19,
      "outputs": []
    },
    {
      "cell_type": "code",
      "source": [
        "#Functions can be inside others, for example\n",
        "def greeting_nice(a):\n",
        "  say_hi(a)\n",
        "print('Nice to meet you')\n",
        "greeting_nice('Juan')"
      ],
      "metadata": {
        "colab": {
          "base_uri": "https://localhost:8080/"
        },
        "id": "GmttQtBKr9ZB",
        "outputId": "08b5e633-26bd-479e-cb7e-b6191bfb5345"
      },
      "execution_count": 23,
      "outputs": [
        {
          "output_type": "stream",
          "name": "stdout",
          "text": [
            "Nice to meet you\n",
            "I am Batman, Juan\n"
          ]
        }
      ]
    },
    {
      "cell_type": "code",
      "source": [
        "#Functions with most parameters\n",
        "def discount(value, percentage):\n",
        "  percentage = percentage/100\n",
        "  return value*(1-percentage)\n"
      ],
      "metadata": {
        "id": "PDBUcO5ww5iX"
      },
      "execution_count": 38,
      "outputs": []
    },
    {
      "cell_type": "code",
      "source": [
        "discount(80,20)"
      ],
      "metadata": {
        "colab": {
          "base_uri": "https://localhost:8080/"
        },
        "id": "bKasgkm0xrat",
        "outputId": "1b5466e2-38b6-43fa-ffa7-3450cd1bbdb1"
      },
      "execution_count": 39,
      "outputs": [
        {
          "output_type": "execute_result",
          "data": {
            "text/plain": [
              "64.0"
            ]
          },
          "metadata": {},
          "execution_count": 39
        }
      ]
    },
    {
      "cell_type": "code",
      "source": [
        "def iva(cost, increment_for_late_delivery):\n",
        "  increment_for_late_delivery = increment_for_late_delivery*0.20\n",
        "  return cost+increment_for_late_delivery\n",
        "  "
      ],
      "metadata": {
        "id": "nS3VrQqa9H0t"
      },
      "execution_count": 41,
      "outputs": []
    },
    {
      "cell_type": "code",
      "source": [
        "iva(20,1)"
      ],
      "metadata": {
        "colab": {
          "base_uri": "https://localhost:8080/"
        },
        "id": "d4n0ot869o3W",
        "outputId": "8da476ab-ed50-4a16-80c6-eb83225c028c"
      },
      "execution_count": 42,
      "outputs": [
        {
          "output_type": "execute_result",
          "data": {
            "text/plain": [
              "20.2"
            ]
          },
          "metadata": {},
          "execution_count": 42
        }
      ]
    },
    {
      "cell_type": "code",
      "source": [
        "#In expressions we can also use function calls, as long as they are functions that return some result. \n",
        "#For a function to return a value when it is called,\n",
        "#we will use the return statement somewhere in the function body (usually at the end of the function body).\n",
        "def triple(c):\n",
        "  return c * 3"
      ],
      "metadata": {
        "id": "wIega94Zsyxp"
      },
      "execution_count": 27,
      "outputs": []
    },
    {
      "cell_type": "code",
      "source": [
        "triple(5)"
      ],
      "metadata": {
        "colab": {
          "base_uri": "https://localhost:8080/"
        },
        "id": "AfwGbVqwurxo",
        "outputId": "c93f3773-fcee-461a-8531-744d9d19f953"
      },
      "execution_count": 30,
      "outputs": [
        {
          "output_type": "execute_result",
          "data": {
            "text/plain": [
              "15"
            ]
          },
          "metadata": {},
          "execution_count": 30
        }
      ]
    },
    {
      "cell_type": "code",
      "source": [
        "#If you wanna save a result of grat importance, call a variable with the result. For example\n",
        "result_of_great_value = 4534523452453452345435 + 213424234 / 234512525435345"
      ],
      "metadata": {
        "id": "FcrmUdf2u3Wx"
      },
      "execution_count": 32,
      "outputs": []
    },
    {
      "cell_type": "code",
      "source": [
        "result_of_great_value"
      ],
      "metadata": {
        "colab": {
          "base_uri": "https://localhost:8080/"
        },
        "id": "hwEB-BtCwlyo",
        "outputId": "1de13596-cbee-465e-ffb9-27ddcc553722"
      },
      "execution_count": 33,
      "outputs": [
        {
          "output_type": "execute_result",
          "data": {
            "text/plain": [
              "4.5345234524534525e+21"
            ]
          },
          "metadata": {},
          "execution_count": 33
        }
      ]
    }
  ]
}